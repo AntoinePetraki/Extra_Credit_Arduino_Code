{
 "cells": [
  {
   "cell_type": "markdown",
   "id": "b055a3b3",
   "metadata": {},
   "source": [
    "# MECH 383 - Applied Electronics and Instrumentation\n",
    "# Lab Information and Rules \n",
    "\n",
    " \n",
    " \n",
    "1. All labs are to be scheduled ahead of time, at the beginning of the semester, with the Chief Electronics Technician, Mario Iacobaccio, in person in MD51. \n",
    "\n",
    "2. Lab partners can be found by posting on the myCourses discussion board. \n",
    "\n",
    "3. All team members must be present for labs. Absences or time changes from scheduled labs need to be pre-arranged for valid reasons. \n",
    "\n",
    "4. It is strongly recommended to complete pre-labs before your experiment time. Pre-labs are handed in together with the experiment and lab report. \n",
    "\n",
    "5. Labs are open-book and open-notes. You may use any free tool that's licensed for academic purposes to help you complete your report as long as it is cited in the references section. One exception is that you must use PySpice or Simulink as your circuit simulator. \n",
    "\n",
    "6. Lab report due dates and late policy are given on the course syllabus.\n",
    "\n",
    "7. Lab reports must be submitted in .ipynb file format. \n",
    "\n",
    "8. It is expected that students hand in data and images with the lab report. It is also expected that reports referencing the results do so without throwing errors; failure of the lab report to display results can result in some points not being awarded.\n",
    "\n",
    "9. Students are expected to write quality code that is clear, efficient, and without redundancies.\n",
    "\n",
    "10. Labs are graded based on the output of each code block. Code that throws errors, supresses output, or otherwise results in **no printed output may not receive points**.\n",
    "\n",
    "11. Each lab will be handed in on behalf of the group by one group member. Groups with identical lab reports or identical answers will receive a grade of zero.  \n",
    "\n",
    "12. Sharing of code or snippets of code between groups is strictly prohibited.\n",
    "\n",
    "**HINT**: To help ensure your notebook runs as expected, restart the kernel and re-run each cell sequentially."
   ]
  },
  {
   "cell_type": "code",
   "execution_count": 1,
   "id": "a6b1ef9b",
   "metadata": {},
   "outputs": [],
   "source": [
    "import numpy as np\n",
    "import math\n",
    "import matplotlib"
   ]
  },
  {
   "cell_type": "markdown",
   "id": "8dc3e46e",
   "metadata": {},
   "source": [
    "The following wesites can be used as resources:\n",
    "\n",
    "* https://www.python.org/\n",
    "* https://numpy.org/\n",
    "* https://matplotlib.org/"
   ]
  },
  {
   "cell_type": "markdown",
   "id": "e739c590",
   "metadata": {},
   "source": [
    "##### Group Number: 18               \n",
    "<br>Names:\n",
    "<br> Titouan Dubray\n",
    "<br> William Jabbour\n",
    "<br> Antoine Petraki\n",
    "<br> \n",
    "<br> Collaborators:\n",
    "<br>\n",
    "<br> Grade:  ________________/100"
   ]
  },
  {
   "cell_type": "markdown",
   "id": "a090f713",
   "metadata": {},
   "source": [
    "# Lab 4"
   ]
  },
  {
   "cell_type": "markdown",
   "id": "3984ca04",
   "metadata": {},
   "source": [
    "### Part A - Logic Gates [15 points]"
   ]
  },
  {
   "cell_type": "markdown",
   "id": "17c3de7c",
   "metadata": {},
   "source": [
    "Create functions for the following logic gates, using $\\textbf{IF}$, $\\textbf{ELIF}$, and $\\textbf{ELSE}$ statements. Verify the function by printing a truth table using the functions outputs as well as returning an answer.\n",
    "\n",
    "$\\textbf{Note:}$ You may $\\textbf{not}$ use the built-in Python logic function at this point. You must create the functions using $\\textbf{IF}$, $\\textbf{ELIF}$, and $\\textbf{ELSE}$."
   ]
  },
  {
   "cell_type": "markdown",
   "id": "2de38ae2",
   "metadata": {},
   "source": [
    "1. OR Gate [3 points]"
   ]
  },
  {
   "cell_type": "code",
   "execution_count": 32,
   "id": "0b4ec0f1",
   "metadata": {},
   "outputs": [
    {
     "name": "stdout",
     "output_type": "stream",
     "text": [
      "\n",
      "  OR Gate Truth Table: \n",
      "\n",
      "| Input1 | Input2 | Result |\n",
      "_____________\n"
     ]
    },
    {
     "ename": "TypeError",
     "evalue": "or_gate() missing 1 required positional argument: 'input2'",
     "output_type": "error",
     "traceback": [
      "\u001b[1;31m---------------------------------------------------------------------------\u001b[0m",
      "\u001b[1;31mTypeError\u001b[0m                                 Traceback (most recent call last)",
      "\u001b[1;32mc:\\Users\\Antoine\\OneDrive - McGill University\\Desktop\\McGill\\FALL 2023\\MECH 383\\Extra Credit\\Arduino\\Extra_Credit_Arduino_Code\\LAB 4\\MECH383_Lab4_FA2023.ipynb Cell 9\u001b[0m line \u001b[0;36m4\n\u001b[0;32m     <a href='vscode-notebook-cell:/c%3A/Users/Antoine/OneDrive%20-%20McGill%20University/Desktop/McGill/FALL%202023/MECH%20383/Extra%20Credit/Arduino/Extra_Credit_Arduino_Code/LAB%204/MECH383_Lab4_FA2023.ipynb#X11sZmlsZQ%3D%3D?line=39'>40</a>\u001b[0m \u001b[39m# Generate and print the truth table for the OR gate\u001b[39;00m\n\u001b[0;32m     <a href='vscode-notebook-cell:/c%3A/Users/Antoine/OneDrive%20-%20McGill%20University/Desktop/McGill/FALL%202023/MECH%20383/Extra%20Credit/Arduino/Extra_Credit_Arduino_Code/LAB%204/MECH383_Lab4_FA2023.ipynb#X11sZmlsZQ%3D%3D?line=40'>41</a>\u001b[0m \u001b[39mprint\u001b[39m(\u001b[39m\"\u001b[39m\u001b[39m\\n\u001b[39;00m\u001b[39m  OR Gate Truth Table: \u001b[39m\u001b[39m\\n\u001b[39;00m\u001b[39m\"\u001b[39m)\n\u001b[1;32m---> <a href='vscode-notebook-cell:/c%3A/Users/Antoine/OneDrive%20-%20McGill%20University/Desktop/McGill/FALL%202023/MECH%20383/Extra%20Credit/Arduino/Extra_Credit_Arduino_Code/LAB%204/MECH383_Lab4_FA2023.ipynb#X11sZmlsZQ%3D%3D?line=41'>42</a>\u001b[0m print_truth_table(or_gate, \u001b[39m2\u001b[39;49m)\n",
      "\u001b[1;32mc:\\Users\\Antoine\\OneDrive - McGill University\\Desktop\\McGill\\FALL 2023\\MECH 383\\Extra Credit\\Arduino\\Extra_Credit_Arduino_Code\\LAB 4\\MECH383_Lab4_FA2023.ipynb Cell 9\u001b[0m line \u001b[0;36m3\n\u001b[0;32m     <a href='vscode-notebook-cell:/c%3A/Users/Antoine/OneDrive%20-%20McGill%20University/Desktop/McGill/FALL%202023/MECH%20383/Extra%20Credit/Arduino/Extra_Credit_Arduino_Code/LAB%204/MECH383_Lab4_FA2023.ipynb#X11sZmlsZQ%3D%3D?line=27'>28</a>\u001b[0m \u001b[39mfor\u001b[39;00m combination \u001b[39min\u001b[39;00m generate_combinations(num_variables):\n\u001b[0;32m     <a href='vscode-notebook-cell:/c%3A/Users/Antoine/OneDrive%20-%20McGill%20University/Desktop/McGill/FALL%202023/MECH%20383/Extra%20Credit/Arduino/Extra_Credit_Arduino_Code/LAB%204/MECH383_Lab4_FA2023.ipynb#X11sZmlsZQ%3D%3D?line=28'>29</a>\u001b[0m     inputs \u001b[39m=\u001b[39m combination[:\u001b[39m-\u001b[39m\u001b[39m1\u001b[39m]\n\u001b[1;32m---> <a href='vscode-notebook-cell:/c%3A/Users/Antoine/OneDrive%20-%20McGill%20University/Desktop/McGill/FALL%202023/MECH%20383/Extra%20Credit/Arduino/Extra_Credit_Arduino_Code/LAB%204/MECH383_Lab4_FA2023.ipynb#X11sZmlsZQ%3D%3D?line=29'>30</a>\u001b[0m     result \u001b[39m=\u001b[39m func(\u001b[39m*\u001b[39;49minputs)\n\u001b[0;32m     <a href='vscode-notebook-cell:/c%3A/Users/Antoine/OneDrive%20-%20McGill%20University/Desktop/McGill/FALL%202023/MECH%20383/Extra%20Credit/Arduino/Extra_Credit_Arduino_Code/LAB%204/MECH383_Lab4_FA2023.ipynb#X11sZmlsZQ%3D%3D?line=30'>31</a>\u001b[0m     row \u001b[39m=\u001b[39m [\u001b[39mstr\u001b[39m(\u001b[39mint\u001b[39m(i)) \u001b[39mfor\u001b[39;00m i \u001b[39min\u001b[39;00m inputs] \u001b[39m+\u001b[39m [\u001b[39mstr\u001b[39m(\u001b[39mint\u001b[39m(result))]\n\u001b[0;32m     <a href='vscode-notebook-cell:/c%3A/Users/Antoine/OneDrive%20-%20McGill%20University/Desktop/McGill/FALL%202023/MECH%20383/Extra%20Credit/Arduino/Extra_Credit_Arduino_Code/LAB%204/MECH383_Lab4_FA2023.ipynb#X11sZmlsZQ%3D%3D?line=31'>32</a>\u001b[0m     \u001b[39mprint\u001b[39m(\u001b[39m\"\u001b[39m\u001b[39m|   \u001b[39m\u001b[39m\"\u001b[39m, \u001b[39m\"\u001b[39m\u001b[39m    |   \u001b[39m\u001b[39m\"\u001b[39m\u001b[39m.\u001b[39mjoin(row), \u001b[39m\"\u001b[39m\u001b[39m   |\u001b[39m\u001b[39m\"\u001b[39m)\n",
      "\u001b[1;31mTypeError\u001b[0m: or_gate() missing 1 required positional argument: 'input2'"
     ]
    }
   ],
   "source": [
    "## Create function here and print truth table\n",
    "def or_gate(input1, input2):\n",
    "    if input1:\n",
    "        return True\n",
    "    elif input2:\n",
    "        return True\n",
    "    else:\n",
    "        return False\n",
    "    \n",
    "def print_truth_table(func):\n",
    "    header = ['Input1 ', 'Input2', 'Result']\n",
    "\n",
    "    print(\"|\", \" | \".join(header), \"|\")\n",
    "    print(\"_\"*30)\n",
    "\n",
    "    for input1 in [False, True]:\n",
    "        for input2 in [False, True]:\n",
    "            result = func(input1, input2)\n",
    "            row = [str(int(input1)), str(int(input2)), str(int(result))]\n",
    "            print(\"|   \", \"    |   \".join(row), \"   |\")\n",
    "\n",
    "\n",
    "\n",
    "\n",
    "# Generate and print the truth table for the OR gate\n",
    "print(\"\\n  OR Gate Truth Table: \\n\")\n",
    "print_truth_table(or_gate)\n"
   ]
  },
  {
   "cell_type": "markdown",
   "id": "fedec931",
   "metadata": {},
   "source": [
    "2. NOR Gate [3 points]"
   ]
  },
  {
   "cell_type": "code",
   "execution_count": 20,
   "id": "c5d9208c",
   "metadata": {},
   "outputs": [
    {
     "name": "stdout",
     "output_type": "stream",
     "text": [
      "\n",
      "   NOR Gate Truth Table: \n",
      "\n",
      "| Input1  | Input2 | Result |\n",
      "______________________________\n",
      "|    0    |   0    |   1    |\n",
      "|    0    |   1    |   0    |\n",
      "|    1    |   0    |   0    |\n",
      "|    1    |   1    |   0    |\n"
     ]
    }
   ],
   "source": [
    "## Create function here and print truth table\n",
    "def nor_gate(input1, input2):\n",
    "    if input1:\n",
    "        return False\n",
    "    elif input2:\n",
    "        return False\n",
    "    else:\n",
    "        return True\n",
    "\n",
    "# Generate and print the truth table for the NOR gate\n",
    "print(\"\\n   NOR Gate Truth Table: \\n\")\n",
    "print_truth_table(nor_gate)\n"
   ]
  },
  {
   "cell_type": "markdown",
   "id": "f2a2fef3",
   "metadata": {},
   "source": [
    "3. AND Gate [3 points]"
   ]
  },
  {
   "cell_type": "code",
   "execution_count": 22,
   "id": "d1f15edf",
   "metadata": {},
   "outputs": [
    {
     "name": "stdout",
     "output_type": "stream",
     "text": [
      "\n",
      "   AND Gate Truth Table: \n",
      "\n",
      "| Input1  | Input2 | Result |\n",
      "______________________________\n",
      "|    0    |   0    |   0    |\n",
      "|    0    |   1    |   0    |\n",
      "|    1    |   0    |   0    |\n",
      "|    1    |   1    |   1    |\n"
     ]
    }
   ],
   "source": [
    "## Create function here and print truth table\n",
    "def and_gate(input1, input2):\n",
    "    if input1:\n",
    "        if input2:\n",
    "            return True\n",
    "        else:\n",
    "            return False\n",
    "    else:\n",
    "        return False\n",
    "\n",
    "# Generate and print the truth table for the AND gate\n",
    "print(\"\\n   AND Gate Truth Table: \\n\")\n",
    "print_truth_table(and_gate)\n"
   ]
  },
  {
   "cell_type": "markdown",
   "id": "edefda7d",
   "metadata": {},
   "source": [
    "4. NAND Gate [3 points]"
   ]
  },
  {
   "cell_type": "code",
   "execution_count": 23,
   "id": "926742a9",
   "metadata": {},
   "outputs": [
    {
     "name": "stdout",
     "output_type": "stream",
     "text": [
      "\n",
      "   NAND Gate Truth Table: \n",
      "\n",
      "| Input1  | Input2 | Result |\n",
      "______________________________\n",
      "|    0    |   0    |   1    |\n",
      "|    0    |   1    |   1    |\n",
      "|    1    |   0    |   1    |\n",
      "|    1    |   1    |   0    |\n"
     ]
    }
   ],
   "source": [
    "## Create function here and print truth table\n",
    "def nand_gate(input1, input2):\n",
    "    if input1:\n",
    "        if input2:\n",
    "            return False\n",
    "        else:\n",
    "            return True\n",
    "    else:\n",
    "        return True\n",
    "\n",
    "# Generate and print the truth table for the NAND gate\n",
    "print(\"\\n   NAND Gate Truth Table: \\n\")\n",
    "print_truth_table(nand_gate)"
   ]
  },
  {
   "cell_type": "markdown",
   "id": "56fcaffc",
   "metadata": {},
   "source": [
    "5. NOT Gate [3 points]"
   ]
  },
  {
   "cell_type": "code",
   "execution_count": 31,
   "id": "36cfcd3f",
   "metadata": {},
   "outputs": [
    {
     "name": "stdout",
     "output_type": "stream",
     "text": [
      "\n",
      "   NOT Gate Truth Table: \n",
      "\n",
      "   | Input1  | Result  |\n",
      "   ____________________\n",
      "   |    0    |   1     |\n",
      "   |    1    |   0     |\n"
     ]
    }
   ],
   "source": [
    "## Create function here and print truth table\n",
    "def not_gate(input1):\n",
    "    if input1:\n",
    "        return False\n",
    "    else:\n",
    "        return True\n",
    "\n",
    "# Generate and print the truth table for the NOT gate\n",
    "print(\"\\n   NOT Gate Truth Table: \\n\")\n",
    "print(\"   | Input1  | Result  |\")\n",
    "print(\"   \"+\"_\"*20)\n",
    "for input1 in [False, True]:\n",
    "    result = not_gate(input1)\n",
    "    row = [str(int(input1)), str(int(result))]\n",
    "    print(\"   |   \", \"    |   \".join(row), \"    |\")\n"
   ]
  },
  {
   "cell_type": "markdown",
   "id": "97e0dbb3",
   "metadata": {},
   "source": [
    "Logic functions are already implemented in Python (https://docs.python.org/3/library/stdtypes.html#boolean-operations-and-or-not). For the rest of the lab, please feel free to use the functions you have defined above or the native Python functions 'and', 'or', 'not'. "
   ]
  },
  {
   "cell_type": "markdown",
   "id": "8ec8054f",
   "metadata": {},
   "source": [
    "### Part B - Digital Circuits [20 points]"
   ]
  },
  {
   "cell_type": "markdown",
   "id": "81284f74",
   "metadata": {},
   "source": [
    "Consider the circuit below:"
   ]
  },
  {
   "attachments": {
    "Lab4_Fig1-3.PNG": {
     "image/png": "[encoded data removed]"
    }
   },
   "cell_type": "markdown",
   "id": "1c55c946",
   "metadata": {},
   "source": [
    "![Lab4_Fig1-3.PNG](attachment:Lab4_Fig1-3.PNG)"
   ]
  },
  {
   "cell_type": "markdown",
   "id": "ebc3e8eb",
   "metadata": {},
   "source": [
    "<center>Figure 1: Digital Circuit"
   ]
  },
  {
   "cell_type": "markdown",
   "id": "3b51a7b7",
   "metadata": {},
   "source": [
    "6. Write the logic expression for the above circuit, using the fuctions defined in Part A of the pre-lab or the native Python functions. [5 points]"
   ]
  },
  {
   "cell_type": "code",
   "execution_count": 33,
   "id": "06bd9f6c",
   "metadata": {},
   "outputs": [],
   "source": [
    "## Write logic function here\n",
    "\n",
    "def F (A, B, C):\n",
    "    F = (not (A and B) or not(B and C)) or not(C and A) \n",
    "    return F"
   ]
  },
  {
   "cell_type": "markdown",
   "id": "f31bf4a6",
   "metadata": {},
   "source": [
    "7. Create a truth table for this digital circuit using the expression defined in Question 6. [5 points]"
   ]
  },
  {
   "cell_type": "code",
   "execution_count": 49,
   "id": "d8f239f2",
   "metadata": {},
   "outputs": [
    {
     "name": "stdout",
     "output_type": "stream",
     "text": [
      "\n",
      "   Logic Function Truth Table: \n",
      "\n",
      "|    A    |   B    |   C    | Result |\n",
      "_____________________________________\n",
      "|    0    |   0    |   0    |   1    |\n",
      "|    0    |   0    |   1    |   1    |\n",
      "|    0    |   1    |   0    |   1    |\n",
      "|    0    |   1    |   1    |   1    |\n",
      "|    1    |   0    |   0    |   1    |\n",
      "|    1    |   0    |   1    |   1    |\n",
      "|    1    |   1    |   0    |   1    |\n",
      "|    1    |   1    |   1    |   0    |\n"
     ]
    }
   ],
   "source": [
    "## Create truth table here\n",
    "def print_truth_tableV2(func, num_variables):\n",
    "    # header = [f'Input{i}' for i in range(1, num_variables + 1)] + ['Result']\n",
    "    header = [\"   A   \",\"  B   \", \"  C   \" ] + ['Result']\n",
    "\n",
    "    print(\"|\", \" | \".join(header), \"|\")\n",
    "    print(\"_\" * 37)\n",
    "\n",
    "    for combination in generate_combinations(num_variables):\n",
    "        inputs = combination\n",
    "        result = func(*inputs)\n",
    "        row = [str(int(i)) for i in inputs] + [str(int(result))]\n",
    "        print(\"|   \", \"    |   \".join(row), \"   |\")\n",
    "\n",
    "def generate_combinations(num_variables):\n",
    "    for i in range(2 ** num_variables):\n",
    "        yield tuple(bool(int(bit)) for bit in format(i, f'0{num_variables}b'))\n",
    "\n",
    "# Generate and print the truth table for the logic function\n",
    "print(\"\\n   Logic Function Truth Table: \\n\")\n",
    "print_truth_tableV2(F, 3)\n"
   ]
  },
  {
   "cell_type": "markdown",
   "id": "35a6b45f",
   "metadata": {},
   "source": [
    "8. a) Draw a Karnaugh map and print the table below. Fill out the Karnaugh map based on the results from your truth table above. (You do not need to circle anything here) [5 points]"
   ]
  },
  {
   "cell_type": "code",
   "execution_count": 50,
   "id": "0d313ee6",
   "metadata": {},
   "outputs": [
    {
     "name": "stdout",
     "output_type": "stream",
     "text": [
      "\n",
      "   Karnaugh Map: \n",
      "\n",
      "               AB               \n",
      "  C   || 00 | 01 | 11 | 10 |\n",
      "     -----------------------\n",
      "  0   ||  1 |  1 |  1 |  1 |\n",
      "  1   ||  1 |  1 |  0 |  1 |\n"
     ]
    }
   ],
   "source": [
    "## Draw Karnaugh map here\n",
    "print(\"\\n   Karnaugh Map: \\n\")\n",
    "print(\"               AB               \")\n",
    "# print(\"----------------------------\")\n",
    "print(\"  C   || 00 | 01 | 11 | 10 |\")\n",
    "print(\"     -----------------------\")\n",
    "print(\"  0   ||  1 |  1 |  1 |  1 |\")\n",
    "# print(\"----------------------------\")\n",
    "print(\"  1   ||  1 |  1 |  0 |  1 |\")"
   ]
  },
  {
   "cell_type": "markdown",
   "id": "f8aa6422",
   "metadata": {},
   "source": [
    "8. b) Use the Karnaugh map you made to derive the minimal sum-of-products logic expression for this digital circuit. Create a truth table for the sum-of-products expression. Include a figure of the circuit. [5 points]\n",
    "<br>*Note: The circuit figure can be created in the program of your choice or hand-drawn and must be added to this notebook below.*"
   ]
  },
  {
   "cell_type": "code",
   "execution_count": 10,
   "id": "05469d6f",
   "metadata": {},
   "outputs": [],
   "source": [
    "## Create function and truth table here. Include figure"
   ]
  },
  {
   "cell_type": "markdown",
   "id": "eef78cc1",
   "metadata": {},
   "source": [
    "### Part C - Simulating Transistor-Based logic gates [60 points]"
   ]
  },
  {
   "cell_type": "markdown",
   "id": "1288275a",
   "metadata": {},
   "source": [
    "In lecture, we showed the creation and analysis of gates using CMOS logic while noting that other transistors can also be used to form gates. Using any resources needed, find examples of BJT circuits that form NAND and OR gates. Sketch these circuits, labelling each node."
   ]
  },
  {
   "cell_type": "markdown",
   "id": "238eb756",
   "metadata": {},
   "source": [
    "9. a) Sketch the BJT NAND gate. Label all nodes. Attach the sketch here (making sure to include the image file in your submission). [8 points]"
   ]
  },
  {
   "cell_type": "code",
   "execution_count": 9,
   "id": "2853a10d",
   "metadata": {},
   "outputs": [],
   "source": [
    "## Include figure here"
   ]
  },
  {
   "cell_type": "markdown",
   "id": "a8dcfa9e",
   "metadata": {},
   "source": [
    "9. b) How many BJT's are in this circuit? What mode is each transistor in when the gate output is high? What mode is each transistor in when the gate output is low? Explain your reasoning in 1-2 sentences for each question. [10 points]"
   ]
  },
  {
   "cell_type": "markdown",
   "id": "a01b8b0a",
   "metadata": {},
   "source": [
    "<i> Type your answers here. </i>"
   ]
  },
  {
   "cell_type": "markdown",
   "id": "c80c0114",
   "metadata": {},
   "source": [
    "10. a) Sketch the BJT OR gate. Label all nodes. Attach the sketch here (making sure to include the image file in your submission). [8 points]"
   ]
  },
  {
   "cell_type": "code",
   "execution_count": 11,
   "id": "84fd93ae",
   "metadata": {},
   "outputs": [],
   "source": [
    "## Include figure here"
   ]
  },
  {
   "cell_type": "markdown",
   "id": "e2c98d45",
   "metadata": {},
   "source": [
    "10. b) How many BJT's are in this circuit? What mode is each transistor in when the gate output is high? What mode is each transistor in when the gate output is low? Explain your reasoning in 1-2 sentences for each question. [10 points]"
   ]
  },
  {
   "cell_type": "markdown",
   "id": "42e752df",
   "metadata": {},
   "source": [
    "<i>Type your answers here</i>"
   ]
  },
  {
   "cell_type": "markdown",
   "id": "3dcb7d70",
   "metadata": {},
   "source": [
    "We can simulate the behaviour of logic gates using software. Using your sketches, use PySpice to simulate these BJT-based logic gates. A BJT model has been included for your use.\n",
    "\n",
    "$\\textbf{Note:}$ The BJT model is not perfect. You may find that the high value is not exactly 5V (it may be ~4.6V or so) and that the low value is not exactly 0V."
   ]
  },
  {
   "cell_type": "markdown",
   "id": "10d8e6c0",
   "metadata": {},
   "source": [
    "11. a) Using PySpice, create a NAND gate using BJTs (BJT model and example implementation has been included). Using a for loop, iterate through the inputs to the gate, V$_a$ and V$_b$, save the outputs, and print out a truth table for the NAND gate. Set V$_{cc}$ = 5V, set the base resistors to 10kOhms, and collector resistor to 4.7kOhms. [10 points]"
   ]
  },
  {
   "cell_type": "code",
   "execution_count": 10,
   "id": "8eb117b0",
   "metadata": {},
   "outputs": [],
   "source": [
    "## DO NOT CHANGE THE FOLLOWING CODE ##\n",
    "# Libraries needed for PySpice\n",
    "import PySpice\n",
    "import PySpice.Logging.Logging as Logging\n",
    "from PySpice.Spice.Netlist import Circuit\n",
    "from PySpice.Unit import *\n",
    "\n",
    "from PySpice.Doc.ExampleTools import find_libraries\n",
    "from PySpice.Spice.Library import SpiceLibrary\n",
    "\n",
    "logger = Logging.setup_logging()\n",
    "\n",
    "libraries_path = find_libraries()\n",
    "spice_library = SpiceLibrary(libraries_path)\n",
    "\n",
    "circuit = Circuit('NAND')\n",
    "circuit.model('2N3904', 'npn', IS=1E-14, VAF=100, BF=200, IKF=0.3, XTB=1.5, BR=3, CJC=8E-12, CJE=25E-12, TR=100E-9, TF=400E-12, ITF=1, VTF=2, XTF=3, RB=10, RC=0.3, RE=0.2, VCEO=30)\n",
    "\n",
    "## ADD YOUR CODE BELOW HERE, NOTE YOUR CIRCUIT HAS BEEN CREATED AND NAMED 'NAND' ##\n",
    "\n",
    "## Here is an example implementation of the BJT:\n",
    "## In PySpice, components such as resistors require 2 nodes (input and output), however, BJTs require 3 nodes\n",
    "# circuit.BJT(partNumber, collectorNodeName, baseNodeName, emitterNodeName, model='2N3904')\n",
    "# It is recommended that you draw out your own circuit containing the BJTs and note the names on your circuit"
   ]
  },
  {
   "cell_type": "markdown",
   "id": "8e51efc1",
   "metadata": {},
   "source": [
    "11. b) Using PySpice, create an OR gate using BJTs (BJT model and example implementation has been included). Using a for loop, iterate through the inputs to the gate, V$_a$ and V$_b$, save the outputs, and print out a truth table for the NAND gate. Set V$_{cc}$ = 5V, set the base resistors to 10kOhms, and emitter resistor to 4.7kOhms. [10 points]"
   ]
  },
  {
   "cell_type": "code",
   "execution_count": 10,
   "id": "bd1e520c",
   "metadata": {},
   "outputs": [],
   "source": [
    "## DO NOT CHANGE THE FOLLOWING CODE ##\n",
    "# Libraries needed for PySpice\n",
    "import PySpice\n",
    "import PySpice.Logging.Logging as Logging\n",
    "from PySpice.Spice.Netlist import Circuit\n",
    "from PySpice.Unit import *\n",
    "\n",
    "from PySpice.Doc.ExampleTools import find_libraries\n",
    "from PySpice.Spice.Library import SpiceLibrary\n",
    "\n",
    "logger = Logging.setup_logging()\n",
    "\n",
    "libraries_path = find_libraries()\n",
    "spice_library = SpiceLibrary(libraries_path)\n",
    "\n",
    "circuit = Circuit('OR')\n",
    "circuit.model('2N3904', 'npn', IS=1E-14, VAF=100, BF=200, IKF=0.3, XTB=1.5, BR=3, CJC=8E-12, CJE=25E-12, TR=100E-9, TF=400E-12, ITF=1, VTF=2, XTF=3, RB=10, RC=0.3, RE=0.2, VCEO=30)\n",
    "\n",
    "## ADD YOUR CODE BELOW HERE, NOTE YOUR CIRCUIT HAS BEEN CREATED AND NAMED 'OR' ##\n",
    "\n",
    "## Here is an example implementation of the BJT:\n",
    "## In PySpice, components such as resistors require 2 nodes (input and output), however, BJTs require 3 nodes\n",
    "# circuit.BJT(partNumber, collectorNodeName, baseNodeName, emitterNodeName, model='2N3904')\n",
    "# It is recommended that you draw out your own circuit containing the BJTs and note the names on your circuit"
   ]
  },
  {
   "cell_type": "markdown",
   "id": "738be997",
   "metadata": {},
   "source": [
    " 12. Do the outputs of these simulations differ from a binary-based truth table? In 1-2 sentences, explain. [4 points]"
   ]
  },
  {
   "cell_type": "markdown",
   "id": "b12ad477",
   "metadata": {},
   "source": [
    "*Type your answer here*"
   ]
  },
  {
   "cell_type": "markdown",
   "id": "410729f7",
   "metadata": {},
   "source": [
    "## References [5 points]"
   ]
  },
  {
   "cell_type": "markdown",
   "id": "a03501cd",
   "metadata": {},
   "source": [
    "Please share any resources that you used (ex: Stack Overflow, official documentation, myCourses forum, etc). For collaborators, note which sections were done collaboratively. For resources, provide a URL where necessary."
   ]
  },
  {
   "cell_type": "markdown",
   "id": "aa96f11d",
   "metadata": {},
   "source": [
    "*Include your references here*"
   ]
  }
 ],
 "metadata": {
  "kernelspec": {
   "display_name": "Python 3 (ipykernel)",
   "language": "python",
   "name": "python3"
  },
  "language_info": {
   "codemirror_mode": {
    "name": "ipython",
    "version": 3
   },
   "file_extension": ".py",
   "mimetype": "text/x-python",
   "name": "python",
   "nbconvert_exporter": "python",
   "pygments_lexer": "ipython3",
   "version": "3.8.5"
  }
 },
 "nbformat": 4,
 "nbformat_minor": 5
}
